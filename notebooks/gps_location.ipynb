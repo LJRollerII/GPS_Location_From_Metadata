{
 "cells": [
  {
   "cell_type": "code",
   "execution_count": null,
   "id": "d13c5f67",
   "metadata": {},
   "outputs": [],
   "source": [
    "import PIL.Image\n",
    "\n",
    "img = PIL.Image.open(\"../images/sample.jpg\")"
   ]
  },
  {
   "cell_type": "code",
   "execution_count": null,
   "id": "316adb4b",
   "metadata": {},
   "outputs": [],
   "source": [
    "import PIL.ExifTags\n",
    "\n",
    "exif = {\n",
    "    PIL.ExifTags.TAGS[k]: v\n",
    "    for k, v in img._getexif().items()\n",
    "    if k in PIL.ExifTags.TAGS\n",
    "}"
   ]
  },
  {
   "cell_type": "code",
   "execution_count": null,
   "id": "2cb5ef16",
   "metadata": {},
   "outputs": [],
   "source": [
    "#exif"
   ]
  },
  {
   "cell_type": "code",
   "execution_count": null,
   "id": "bff23fd4",
   "metadata": {},
   "outputs": [],
   "source": [
    "exif['GPSInfo']"
   ]
  },
  {
   "cell_type": "code",
   "execution_count": null,
   "id": "323f94cf",
   "metadata": {},
   "outputs": [],
   "source": [
    "north = exif['GPSInfo'][2]\n",
    "east = exif['GPSInfo'][4]"
   ]
  },
  {
   "cell_type": "code",
   "execution_count": null,
   "id": "707dfedb",
   "metadata": {},
   "outputs": [],
   "source": [
    "north"
   ]
  },
  {
   "cell_type": "code",
   "execution_count": null,
   "id": "dbbfe55d",
   "metadata": {},
   "outputs": [],
   "source": [
    "east"
   ]
  },
  {
   "cell_type": "code",
   "execution_count": null,
   "id": "e1ab6509",
   "metadata": {},
   "outputs": [],
   "source": [
    "lat = ((((north[0] * 60) + north[1]) * 60) + north[2]) / 60 / 60\n",
    "long = ((((east[0] * 60) + east[1]) * 60) + east[2]) / 60 / 60"
   ]
  },
  {
   "cell_type": "code",
   "execution_count": null,
   "id": "8fb82906",
   "metadata": {},
   "outputs": [],
   "source": [
    "#lat"
   ]
  },
  {
   "cell_type": "code",
   "execution_count": null,
   "id": "54c909ab",
   "metadata": {},
   "outputs": [],
   "source": [
    "#long"
   ]
  },
  {
   "cell_type": "code",
   "execution_count": null,
   "id": "a5c4f58b",
   "metadata": {},
   "outputs": [],
   "source": [
    "lat, long = float(lat), float(long)"
   ]
  },
  {
   "cell_type": "code",
   "execution_count": null,
   "id": "9bf4d375",
   "metadata": {},
   "outputs": [],
   "source": [
    "lat"
   ]
  },
  {
   "cell_type": "code",
   "execution_count": null,
   "id": "2b60f688",
   "metadata": {},
   "outputs": [],
   "source": [
    "long"
   ]
  },
  {
   "cell_type": "code",
   "execution_count": null,
   "id": "a643781b",
   "metadata": {},
   "outputs": [],
   "source": [
    "from gmplot import gmplot\n",
    "\n",
    "gmap = gmplot.GoogleMapPlotter(lat, long, 12)\n",
    "\n",
    "gmap.marker(lat, long, \"cornflowerblue\")\n",
    "\n",
    "gmap. draw(\"location.html\")"
   ]
  },
  {
   "cell_type": "code",
   "execution_count": null,
   "id": "e6b1e0f8",
   "metadata": {},
   "outputs": [],
   "source": [
    "from geopy.geocoders import Nominatim\n",
    "\n",
    "geoLoc = Nominatim(user_agent=\"GetLoc\")\n",
    "\n",
    "locname = geoLoc.reverse(f\"{lat},{long}\")\n",
    "\n",
    "print(locname.address)"
   ]
  },
  {
   "cell_type": "code",
   "execution_count": null,
   "id": "71f319b6",
   "metadata": {},
   "outputs": [],
   "source": [
    "import webbrowser\n",
    "\n",
    "webbrowser.open(\"location.html\", new=2)"
   ]
  }
 ],
 "metadata": {
  "kernelspec": {
   "display_name": "Python 3 (ipykernel)",
   "language": "python",
   "name": "python3"
  },
  "language_info": {
   "codemirror_mode": {
    "name": "ipython",
    "version": 3
   },
   "file_extension": ".py",
   "mimetype": "text/x-python",
   "name": "python",
   "nbconvert_exporter": "python",
   "pygments_lexer": "ipython3",
   "version": "3.9.7"
  }
 },
 "nbformat": 4,
 "nbformat_minor": 5
}
